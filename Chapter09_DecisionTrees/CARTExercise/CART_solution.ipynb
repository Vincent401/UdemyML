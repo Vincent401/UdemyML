{
 "cells": [
  {
   "cell_type": "markdown",
   "metadata": {},
   "source": [
    "#### Dataset Preparation"
   ]
  },
  {
   "cell_type": "code",
   "execution_count": 8,
   "metadata": {},
   "outputs": [],
   "source": [
    "import numpy as np\n",
    "\n",
    "\n",
    "np.random.seed(42)"
   ]
  },
  {
   "cell_type": "code",
   "execution_count": 9,
   "metadata": {},
   "outputs": [],
   "source": [
    "from sklearn.datasets import load_wine\n",
    "from sklearn.model_selection import GridSearchCV\n",
    "from sklearn.model_selection import train_test_split\n",
    "from sklearn.tree import DecisionTreeClassifier"
   ]
  },
  {
   "cell_type": "code",
   "execution_count": 10,
   "metadata": {},
   "outputs": [],
   "source": [
    "dataset = load_wine()\n",
    "x = dataset.data\n",
    "y = dataset.target"
   ]
  },
  {
   "cell_type": "markdown",
   "metadata": {},
   "source": [
    "#### CART Classifier"
   ]
  },
  {
   "cell_type": "code",
   "execution_count": 11,
   "metadata": {},
   "outputs": [],
   "source": [
    "x_train, x_test, y_train, y_test = train_test_split(x, y, test_size=0.3)"
   ]
  },
  {
   "cell_type": "code",
   "execution_count": 12,
   "metadata": {},
   "outputs": [
    {
     "name": "stderr",
     "output_type": "stream",
     "text": [
      "c:\\Users\\Jan\\anaconda3\\Lib\\site-packages\\sklearn\\model_selection\\_validation.py:540: FitFailedWarning: \n",
      "400 fits failed out of a total of 1200.\n",
      "The score on these train-test partitions for these parameters will be set to nan.\n",
      "If these failures are not expected, you can try to debug them by setting error_score='raise'.\n",
      "\n",
      "Below are more details about the failures:\n",
      "--------------------------------------------------------------------------------\n",
      "400 fits failed with the following error:\n",
      "Traceback (most recent call last):\n",
      "  File \"c:\\Users\\Jan\\anaconda3\\Lib\\site-packages\\sklearn\\model_selection\\_validation.py\", line 888, in _fit_and_score\n",
      "    estimator.fit(X_train, y_train, **fit_params)\n",
      "  File \"c:\\Users\\Jan\\anaconda3\\Lib\\site-packages\\sklearn\\base.py\", line 1466, in wrapper\n",
      "    estimator._validate_params()\n",
      "  File \"c:\\Users\\Jan\\anaconda3\\Lib\\site-packages\\sklearn\\base.py\", line 666, in _validate_params\n",
      "    validate_parameter_constraints(\n",
      "  File \"c:\\Users\\Jan\\anaconda3\\Lib\\site-packages\\sklearn\\utils\\_param_validation.py\", line 95, in validate_parameter_constraints\n",
      "    raise InvalidParameterError(\n",
      "sklearn.utils._param_validation.InvalidParameterError: The 'min_samples_split' parameter of DecisionTreeClassifier must be an int in the range [2, inf) or a float in the range (0.0, 1.0]. Got 1 instead.\n",
      "\n",
      "  warnings.warn(some_fits_failed_message, FitFailedWarning)\n",
      "c:\\Users\\Jan\\anaconda3\\Lib\\site-packages\\numpy\\ma\\core.py:2846: RuntimeWarning: invalid value encountered in cast\n",
      "  _data = np.array(data, dtype=dtype, copy=copy,\n",
      "c:\\Users\\Jan\\anaconda3\\Lib\\site-packages\\sklearn\\model_selection\\_search.py:1103: UserWarning: One or more of the test scores are non-finite: [       nan 0.92820513 0.91923077        nan 0.91923077 0.88653846\n",
      "        nan 0.92051282 0.9525641         nan 0.91923077 0.89551282\n",
      "        nan 0.83974359 0.83846154        nan 0.85512821 0.84679487\n",
      "        nan 0.83910256 0.89487179        nan 0.82307692 0.87179487\n",
      "        nan 0.88141026 0.86217949        nan 0.88717949 0.89615385\n",
      "        nan 0.88782051 0.88717949        nan 0.90192308 0.87948718\n",
      "        nan 0.89615385 0.86282051        nan 0.87884615 0.84615385\n",
      "        nan 0.8775641  0.91923077        nan 0.91858974 0.92051282\n",
      "        nan 0.91217949 0.91987179        nan 0.88076923 0.87051282\n",
      "        nan 0.89358974 0.86346154        nan 0.91089744 0.93525641\n",
      "        nan 0.88846154 0.92115385        nan 0.88782051 0.87948718\n",
      "        nan 0.89487179 0.89551282        nan 0.82948718 0.89487179\n",
      "        nan 0.86923077 0.86346154        nan 0.84679487 0.8224359\n",
      "        nan 0.87179487 0.82371795        nan 0.82820513 0.84807692\n",
      "        nan 0.9275641  0.91089744        nan 0.91858974 0.88782051\n",
      "        nan 0.88782051 0.92628205        nan 0.88846154 0.91153846\n",
      "        nan 0.88717949 0.91217949        nan 0.9025641  0.91858974\n",
      "        nan 0.8974359  0.9525641         nan 0.88782051 0.90384615\n",
      "        nan 0.83397436 0.92948718        nan 0.82307692 0.88653846\n",
      "        nan 0.86282051 0.90512821        nan 0.89615385 0.91089744]\n",
      "  warnings.warn(\n"
     ]
    }
   ],
   "source": [
    "parameters = {\n",
    "    \"criterion\": [\"gini\", \"entropy\"],\n",
    "    \"max_depth\": [None, 2, 4, 8, 10],\n",
    "    \"min_samples_split\": [1, 2, 4],\n",
    "    \"min_samples_leaf\": [1, 2],\n",
    "    \"max_features\": [\"sqrt\", \"log2\"],\n",
    "}\n",
    "\n",
    "clf = DecisionTreeClassifier()\n",
    "grid_cv = GridSearchCV(clf, parameters, cv=10, n_jobs=-1)\n",
    "_ = grid_cv.fit(x_train, y_train)"
   ]
  },
  {
   "cell_type": "code",
   "execution_count": 13,
   "metadata": {},
   "outputs": [
    {
     "name": "stdout",
     "output_type": "stream",
     "text": [
      "Parameters of best model: {'criterion': 'gini', 'max_depth': None, 'max_features': 'log2', 'min_samples_leaf': 1, 'min_samples_split': 4}\n",
      "Score of best model: 0.9525641025641025\n"
     ]
    }
   ],
   "source": [
    "print(f\"Parameters of best model: {grid_cv.best_params_}\")\n",
    "print(f\"Score of best model: {grid_cv.best_score_}\")"
   ]
  },
  {
   "cell_type": "markdown",
   "metadata": {},
   "source": [
    "#### Train Best Model"
   ]
  },
  {
   "cell_type": "code",
   "execution_count": 14,
   "metadata": {},
   "outputs": [
    {
     "name": "stdout",
     "output_type": "stream",
     "text": [
      "Accuracy: 0.8703703703703703\n"
     ]
    }
   ],
   "source": [
    "clf = DecisionTreeClassifier(**grid_cv.best_params_)\n",
    "clf.fit(x_train, y_train)\n",
    "score = clf.score(x_test, y_test)\n",
    "\n",
    "print(f\"Accuracy: {score}\")"
   ]
  }
 ],
 "metadata": {
  "kernelspec": {
   "display_name": "base",
   "language": "python",
   "name": "python3"
  },
  "language_info": {
   "codemirror_mode": {
    "name": "ipython",
    "version": 3
   },
   "file_extension": ".py",
   "mimetype": "text/x-python",
   "name": "python",
   "nbconvert_exporter": "python",
   "pygments_lexer": "ipython3",
   "version": "3.11.5"
  },
  "vscode": {
   "interpreter": {
    "hash": "26eab8343ce5ed02de4098c10e314ebb45ce0ac5e34fea85423d6f141bc9ca67"
   }
  }
 },
 "nbformat": 4,
 "nbformat_minor": 2
}
