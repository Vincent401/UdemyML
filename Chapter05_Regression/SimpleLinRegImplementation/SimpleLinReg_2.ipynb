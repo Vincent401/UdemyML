{
 "cells": [
  {
   "cell_type": "code",
   "execution_count": 9,
   "metadata": {},
   "outputs": [],
   "source": [
    "import numpy as np\n",
    "from sklearn.datasets import fetch_california_housing"
   ]
  },
  {
   "cell_type": "code",
   "execution_count": 10,
   "metadata": {},
   "outputs": [],
   "source": [
    "dataset = fetch_california_housing()"
   ]
  },
  {
   "cell_type": "code",
   "execution_count": 11,
   "metadata": {},
   "outputs": [],
   "source": [
    "x = dataset.data\n",
    "y = dataset.target"
   ]
  },
  {
   "attachments": {},
   "cell_type": "markdown",
   "metadata": {},
   "source": [
    "## Einfache Lineare Regression\n",
    "\n",
    "### Bedeutung\n",
    "\n",
    "-   $R^2$: Wie viel Streuung kann von dem Regressionsmodell erklärt werden\n",
    "-   coef: Steigung der Geraden\n",
    "-   intercept: y-Achsenabschnitt\n",
    "\n",
    "### Symbole\n",
    "\n",
    "-   $\\bar{x}$: Mittelwert von $x$\n",
    "-   $\\bar{y}$: Mittelwert von $y$\n",
    "-   $\\hat{y}$: Prediktion vom Modell\n",
    "\n",
    "### Datensatz\n",
    "\n",
    "-   $m$: Anzahl an Samples\n",
    "-   $n$: Anzahl an Features\n",
    "-   $x$: Input-Daten (Features)\n",
    "-   $y$: Output Daten (Targets)\n",
    "\n",
    "### Variablen\n",
    "\n",
    "-   $x \\in \\mathbb{R}^{m,n}$\n",
    "-   $y \\in \\mathbb{R}^{m,}$\n",
    "-   coef, $\\bar{x} \\in \\mathbb{R}^{n}$\n",
    "-   intercept, $\\bar{y} \\in \\mathbb{R}$\n",
    "\n",
    "### Formeln\n",
    "\n",
    "-   coef = $\\frac{\\sum_{i=1}^{n}(x_i-\\bar{x})(y_i-\\bar{y})}{\\sum_{i=1}^n(x_i-\\bar{x})^2}$\n",
    "-   intercept = $\\bar{y} - coef \\cdot \\bar{x}$\n",
    "-   $R^2 = 1 - \\frac{\\sum_{i=1}^n(y_i-\\hat{y})^2}{\\sum_{i=1}^n(y_i-\\bar{y})^2}$\n",
    "-   $\\hat{y} = coef^T \\cdot x + intercept$\n"
   ]
  },
  {
   "cell_type": "code",
   "execution_count": 12,
   "metadata": {},
   "outputs": [],
   "source": [
    "class SimpleLinearRegression:\n",
    "    def __init__(self) -> None:\n",
    "        \"\"\"\n",
    "        Initializes the SimpleLinearRegression class.\n",
    "\n",
    "        Parameters:\n",
    "        None\n",
    "\n",
    "        Returns:\n",
    "        None\n",
    "        \"\"\"\n",
    "        self.coef_: np.ndarray | None = None\n",
    "        self.intercept_: np.ndarray | None = None\n",
    "\n",
    "    def _compute_coef(self, x: np.ndarray, y: np.ndarray) -> None:\n",
    "        \"\"\"\n",
    "        Compute the coefficient of the linear regression model.\n",
    "\n",
    "        Parameters:\n",
    "        x (np.ndarray): The input feature array.\n",
    "        y (np.ndarray): The target array.\n",
    "\n",
    "        Returns:\n",
    "        None\n",
    "        \"\"\"\n",
    "        x_mean = np.mean(x, axis=0)\n",
    "        y_mean = np.mean(y, axis=0)\n",
    "        numerator = np.sum((x - x_mean) * (y - y_mean))\n",
    "        denominator = np.sum((x - x_mean) ** 2)\n",
    "        self.coef_ = numerator / denominator\n",
    "\n",
    "    def _compute_intercept(self, x: np.ndarray, y: np.ndarray) -> None:\n",
    "        \"\"\"\n",
    "        Compute the intercept of the linear regression model.\n",
    "\n",
    "        Parameters:\n",
    "        x (np.ndarray): The input features.\n",
    "        y (np.ndarray): The target values.\n",
    "\n",
    "        Returns:\n",
    "        None\n",
    "        \"\"\"\n",
    "        x_mean = np.mean(x, axis=0)\n",
    "        y_mean = np.mean(y, axis=0)\n",
    "        self.intercept_ = y_mean - self.coef_.T * x_mean\n",
    "\n",
    "    def fit(self, x: np.ndarray, y: np.ndarray) -> None:\n",
    "        \"\"\"\n",
    "        Fits the simple linear regression model to the given training data.\n",
    "\n",
    "        Parameters:\n",
    "        x (np.ndarray): Input features.\n",
    "        y (np.ndarray): Target variable.\n",
    "\n",
    "        Returns:\n",
    "        None\n",
    "        \"\"\"\n",
    "        self._compute_coef(x, y)\n",
    "        self._compute_intercept(x, y)\n",
    "\n",
    "    def predict(self, x: np.ndarray) -> np.ndarray:\n",
    "        \"\"\"\n",
    "        Predicts the target variable for the given input data.\n",
    "\n",
    "        Parameters:\n",
    "        x (np.ndarray): Input data for prediction.\n",
    "\n",
    "        Returns:\n",
    "        np.ndarray: Predicted target variable.\n",
    "        \"\"\"\n",
    "        return self.coef_.T * x + self.intercept_\n",
    "\n",
    "    def score(self, x: np.ndarray, y: np.ndarray) -> float:\n",
    "        \"\"\"\n",
    "        Computes the coefficient of determination (R^2) for the model.\n",
    "\n",
    "        Parameters:\n",
    "        x (np.ndarray): Input features.\n",
    "        y (np.ndarray): Target variable.\n",
    "\n",
    "        Returns:\n",
    "        float: Coefficient of determination (R^2).\n",
    "        \"\"\"\n",
    "        y_pred = self.predict(x)\n",
    "        y_mean = np.mean(y, axis=0)\n",
    "        numerator = np.sum((y - y_pred) ** 2)\n",
    "        denominator = np.sum((y - y_mean) ** 2)\n",
    "        return 1.0 - (numerator / denominator)"
   ]
  },
  {
   "cell_type": "code",
   "execution_count": 13,
   "metadata": {},
   "outputs": [],
   "source": [
    "import matplotlib.pyplot as plt\n",
    "from sklearn.model_selection import train_test_split"
   ]
  },
  {
   "cell_type": "code",
   "execution_count": 14,
   "metadata": {},
   "outputs": [],
   "source": [
    "x = dataset.data[:, 0]\n",
    "y = dataset.target\n",
    "\n",
    "x_train, x_test, y_train, y_test = train_test_split(x, y, test_size=0.3)"
   ]
  },
  {
   "cell_type": "code",
   "execution_count": 15,
   "metadata": {},
   "outputs": [
    {
     "name": "stdout",
     "output_type": "stream",
     "text": [
      "r2: 0.46012055309247235\n",
      "m: 0.41977685412397886\n",
      "b: 0.444783122386748\n"
     ]
    }
   ],
   "source": [
    "regr = SimpleLinearRegression()\n",
    "regr.fit(x_train, y_train)\n",
    "r2 = regr.score(x_test, y_test)\n",
    "\n",
    "print(f\"r2: {r2}\")\n",
    "print(f\"m: {regr.coef_}\")\n",
    "print(f\"b: {regr.intercept_}\")"
   ]
  },
  {
   "cell_type": "code",
   "execution_count": 16,
   "metadata": {},
   "outputs": [
    {
     "data": {
      "image/png": "[encoded data removed]",
      "text/plain": [
       "<Figure size 640x480 with 1 Axes>"
      ]
     },
     "metadata": {},
     "output_type": "display_data"
    }
   ],
   "source": [
    "x_values = np.arange(start=0.0, stop=14.0, step=0.05).reshape((-1, 1))\n",
    "y_values = regr.predict(x_values)\n",
    "\n",
    "plt.scatter(x_train, y_train)\n",
    "plt.plot(x_values, y_values, color=\"red\")\n",
    "plt.show()"
   ]
  }
 ],
 "metadata": {
  "kernelspec": {
   "display_name": "base",
   "language": "python",
   "name": "python3"
  },
  "language_info": {
   "codemirror_mode": {
    "name": "ipython",
    "version": 3
   },
   "file_extension": ".py",
   "mimetype": "text/x-python",
   "name": "python",
   "nbconvert_exporter": "python",
   "pygments_lexer": "ipython3",
   "version": "3.11.5"
  },
  "vscode": {
   "interpreter": {
    "hash": "26eab8343ce5ed02de4098c10e314ebb45ce0ac5e34fea85423d6f141bc9ca67"
   }
  }
 },
 "nbformat": 4,
 "nbformat_minor": 2
}
