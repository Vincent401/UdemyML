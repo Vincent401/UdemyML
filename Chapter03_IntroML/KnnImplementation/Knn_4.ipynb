{
 "cells": [
  {
   "cell_type": "markdown",
   "metadata": {},
   "source": [
    "### K-Nearest Neighbor Algorithmus:\n",
    "\n",
    "#### Parameter:\n",
    "\n",
    "dataset = (X, Y)  \n",
    "mit X := Features  \n",
    "und Y := Classes\n",
    "\n",
    "K := Hyperparameter für die nächsten k Nachbarn  \n",
    "sample := Neuer Datenpunkt zum Klassifizieren\n",
    "\n",
    "#### Pseudo-Code:\n",
    "\n",
    "kNN (dataset, K, sample):\n",
    "\n",
    "-   Bestimme von jedem Punkt $p \\in dataset$ die Distanz, mit der geg. Distanzfunktion.\n",
    "-   Bestimme die $K$ nächst gelegenen Nachbarn und bestimme die zugehörige Klasse von $sample$.\n"
   ]
  },
  {
   "cell_type": "code",
   "execution_count": 1,
   "metadata": {},
   "outputs": [],
   "source": [
    "import numpy as np\n",
    "\n",
    "\n",
    "np.random.seed(42)"
   ]
  },
  {
   "cell_type": "code",
   "execution_count": 2,
   "metadata": {},
   "outputs": [],
   "source": [
    "def generate_dataset() -> tuple:\n",
    "    num_samples_class1 = 10\n",
    "    num_samples_class2 = 6\n",
    "    num_samples_class3 = 13\n",
    "    cov = np.array([[1, 0], [0, 1]])\n",
    "    data1 = np.random.multivariate_normal(\n",
    "        np.array([0, 0]),\n",
    "        cov,\n",
    "        num_samples_class1,\n",
    "    )\n",
    "    data2 = np.random.multivariate_normal(\n",
    "        np.array([-10, 4]),\n",
    "        cov,\n",
    "        num_samples_class2,\n",
    "    )\n",
    "    data3 = np.random.multivariate_normal(\n",
    "        np.array([10, 10]),\n",
    "        cov,\n",
    "        num_samples_class3,\n",
    "    )\n",
    "    data = np.concatenate((data1, data2, data3), axis=0)\n",
    "    classes = np.array(\n",
    "        [0 for i in range(num_samples_class1)]\n",
    "        + [1 for i in range(num_samples_class2)]\n",
    "        + [2 for i in range(num_samples_class3)],\n",
    "    )\n",
    "    return data, classes"
   ]
  },
  {
   "cell_type": "code",
   "execution_count": 3,
   "metadata": {},
   "outputs": [],
   "source": [
    "x, y = generate_dataset()"
   ]
  },
  {
   "cell_type": "code",
   "execution_count": 4,
   "metadata": {
    "scrolled": true
   },
   "outputs": [
    {
     "name": "stdout",
     "output_type": "stream",
     "text": [
      "x shape: (29, 2)\n",
      "y shape: (29,)\n",
      "x:\n",
      "[[ 0.49671415 -0.1382643 ]\n",
      " [ 0.64768854  1.52302986]\n",
      " [-0.23415337 -0.23413696]]\n",
      "y:\n",
      "[0 0 0]\n"
     ]
    }
   ],
   "source": [
    "print(f\"x shape: {x.shape}\")\n",
    "print(f\"y shape: {y.shape}\")\n",
    "\n",
    "print(f\"x:\\n{x[:3]}\")\n",
    "print(f\"y:\\n{y[:3]}\")"
   ]
  },
  {
   "cell_type": "code",
   "execution_count": 5,
   "metadata": {},
   "outputs": [],
   "source": [
    "import matplotlib.pyplot as plt\n",
    "\n",
    "\n",
    "def plot_dataset(x: np.ndarray, y: np.ndarray) -> None:\n",
    "    colors = [\"red\", \"blue\", \"green\"]\n",
    "    for index, point in enumerate(x):\n",
    "        plt.scatter(point[0], point[1], color=colors[y[index]])\n",
    "    plt.show()"
   ]
  },
  {
   "cell_type": "code",
   "execution_count": 6,
   "metadata": {
    "scrolled": true
   },
   "outputs": [
    {
     "data": {
      "image/png": "[encoded data removed]",
      "text/plain": [
       "<Figure size 640x480 with 1 Axes>"
      ]
     },
     "metadata": {},
     "output_type": "display_data"
    }
   ],
   "source": [
    "plot_dataset(x, y)"
   ]
  },
  {
   "cell_type": "markdown",
   "metadata": {},
   "source": [
    "## KNN Implementation\n"
   ]
  },
  {
   "cell_type": "code",
   "execution_count": 7,
   "metadata": {},
   "outputs": [],
   "source": [
    "class KNeighborClassifier:\n",
    "    \"\"\"\n",
    "    KNeighborClassifier is a k-nearest neighbors classifier implementation.\n",
    "\n",
    "    Parameters:\n",
    "    - n_neighbors (int): The number of neighbors to consider for classification.\n",
    "\n",
    "    Attributes:\n",
    "    - X (np.ndarray): The training data features.\n",
    "    - y (np.ndarray): The training data labels.\n",
    "    - num_classes (int): The number of unique classes in the training data.\n",
    "\n",
    "    Methods:\n",
    "    - kneighbors(X: np.ndarray) -> np.ndarray:\n",
    "        Computes the indices of the k nearest neighbors for each sample in X.\n",
    "\n",
    "    - fit(X: np.ndarray, y: np.ndarray) -> None:\n",
    "        Fits the classifier to the training data.\n",
    "\n",
    "    - predict(X: np.ndarray) -> np.ndarray:\n",
    "        Predicts the class labels for the input data.\n",
    "\n",
    "    - score(X: np.ndarray, y: np.ndarray) -> float:\n",
    "        Computes the mean accuracy of the classifier on the input data.\n",
    "\n",
    "    \"\"\"\n",
    "\n",
    "    def __init__(self, n_neighbors: int = 5) -> None:\n",
    "        self.n_neighbors = n_neighbors\n",
    "        self.X: np.ndarray\n",
    "        self.y: np.ndarray\n",
    "        self.num_classes: int\n",
    "\n",
    "    def _distance(self, p1: np.ndarray, p2: np.ndarray) -> float:\n",
    "        return np.linalg.norm(p1 - p2)\n",
    "\n",
    "    def kneighbors(self, X: np.ndarray) -> np.ndarray:\n",
    "        distances = np.array(\n",
    "            [[self._distance(sample, x_i) for x_i in self.X] for sample in X],\n",
    "        )\n",
    "        sorted_distances_idxs = np.argsort(distances[:])\n",
    "        return sorted_distances_idxs[:, : self.n_neighbors]\n",
    "\n",
    "    def fit(self, X: np.ndarray, y: np.ndarray) -> None:\n",
    "        self.X = X\n",
    "        self.y = y\n",
    "        self.num_classes = len(np.unique(self.y))\n",
    "\n",
    "    def _vote_class(self, kneighbors_idxs: np.ndarray) -> int:\n",
    "        votes = np.zeros(shape=(self.num_classes))\n",
    "        neighbors_classes = self.y[kneighbors_idxs]\n",
    "        for neighbor_class in neighbors_classes:\n",
    "            votes[neighbor_class] += 1\n",
    "        return np.argmax(votes)\n",
    "\n",
    "    def predict(self, X: np.ndarray) -> np.ndarray:\n",
    "        kneighbors_idxs = self.kneighbors(X)\n",
    "        return np.array(\n",
    "            [\n",
    "                self._vote_class(kneighbor_idxs)\n",
    "                for kneighbor_idxs in kneighbors_idxs\n",
    "            ],\n",
    "        )\n",
    "\n",
    "    def score(self, X: np.ndarray, y: np.ndarray) -> float:\n",
    "        y_pred = self.predict(X)\n",
    "        return np.mean(y_pred == y)"
   ]
  },
  {
   "cell_type": "code",
   "execution_count": 8,
   "metadata": {},
   "outputs": [
    {
     "name": "stdout",
     "output_type": "stream",
     "text": [
      "x_test:\n",
      "[[ 0.  4.]\n",
      " [-5.  4.]]\n",
      "y_test:\n",
      "[0 1]\n",
      "y_pred:\n",
      "[0 1]\n",
      "Score: 1.0\n"
     ]
    }
   ],
   "source": [
    "x_test = np.array([[0.0, 4.0], [-5.0, 4.0]])\n",
    "y_test = np.array([0, 1])\n",
    "\n",
    "clf = KNeighborClassifier(n_neighbors=3)\n",
    "clf.fit(x, y)\n",
    "\n",
    "accuracy = clf.score(x_test, y_test)\n",
    "y_pred = clf.predict(x_test)\n",
    "\n",
    "print(f\"x_test:\\n{x_test}\")\n",
    "print(f\"y_test:\\n{y_test}\")\n",
    "print(f\"y_pred:\\n{y_pred}\")\n",
    "print(f\"Score: {accuracy}\")"
   ]
  },
  {
   "cell_type": "code",
   "execution_count": 9,
   "metadata": {},
   "outputs": [],
   "source": [
    "def plot_knn_prediction(\n",
    "    clf: KNeighborClassifier,\n",
    "    X_samples: np.ndarray,\n",
    "    y_pred: np.ndarray,\n",
    "    X: np.ndarray,\n",
    "    y: np.ndarray,\n",
    ") -> None:\n",
    "    colors = [\"red\", \"blue\", \"green\"]\n",
    "    for index, point in enumerate(X):\n",
    "        plt.scatter(point[0], point[1], color=colors[y[index]])\n",
    "    neighbors_idxs = clf.kneighbors(X_samples)\n",
    "    for index, point in enumerate(X_samples):\n",
    "        neighbors_points = clf.X[neighbors_idxs][index]\n",
    "        neighbors_classes = clf.y[neighbors_idxs][index]\n",
    "        plt.scatter(\n",
    "            point[0],\n",
    "            point[1],\n",
    "            color=colors[y_pred[index]],\n",
    "            marker=\"*\",\n",
    "            s=120,\n",
    "        )\n",
    "        for neighbor_point, neighbor_class in zip(\n",
    "            neighbors_points,\n",
    "            neighbors_classes,\n",
    "        ):\n",
    "            plt.plot(\n",
    "                (neighbor_point[0], point[0]),\n",
    "                (neighbor_point[1], point[1]),\n",
    "                color=colors[neighbor_class],\n",
    "            )\n",
    "    plt.show()"
   ]
  },
  {
   "cell_type": "code",
   "execution_count": 10,
   "metadata": {},
   "outputs": [
    {
     "data": {
      "image/png": "[encoded data removed]",
      "text/plain": [
       "<Figure size 640x480 with 1 Axes>"
      ]
     },
     "metadata": {},
     "output_type": "display_data"
    }
   ],
   "source": [
    "plot_knn_prediction(clf, x_test, y_pred, x, y)"
   ]
  }
 ],
 "metadata": {
  "kernelspec": {
   "display_name": "Python 3.9.7 ('base')",
   "language": "python",
   "name": "python3"
  },
  "language_info": {
   "codemirror_mode": {
    "name": "ipython",
    "version": 3
   },
   "file_extension": ".py",
   "mimetype": "text/x-python",
   "name": "python",
   "nbconvert_exporter": "python",
   "pygments_lexer": "ipython3",
   "version": "3.11.5"
  },
  "vscode": {
   "interpreter": {
    "hash": "26eab8343ce5ed02de4098c10e314ebb45ce0ac5e34fea85423d6f141bc9ca67"
   }
  }
 },
 "nbformat": 4,
 "nbformat_minor": 2
}
