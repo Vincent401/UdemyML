{
 "cells": [
  {
   "cell_type": "markdown",
   "metadata": {},
   "source": [
    "### K-Nearest Neighbor Algorithmus:\n",
    "\n",
    "#### Parameter:\n",
    "\n",
    "dataset = (X, Y)  \n",
    "mit X := Features  \n",
    "und Y := Classes\n",
    "\n",
    "K := Hyperparameter für die nächsten k Nachbarn  \n",
    "sample := Neuer Datenpunkt zum Klassifizieren\n",
    "\n",
    "#### Pseudo-Code:\n",
    "\n",
    "kNN (dataset, K, sample):\n",
    "\n",
    "-   Bestimme von jedem Punkt $p \\in dataset$ die Distanz, mit der geg. Distanzfunktion.\n",
    "-   Bestimme die $K$ nächst gelegenen Nachbarn und bestimme die zugehörige Klasse von $sample$.\n"
   ]
  },
  {
   "cell_type": "code",
   "execution_count": 1,
   "metadata": {},
   "outputs": [],
   "source": [
    "import numpy as np\n",
    "\n",
    "\n",
    "np.random.seed(42)"
   ]
  },
  {
   "cell_type": "code",
   "execution_count": 2,
   "metadata": {},
   "outputs": [],
   "source": [
    "def generate_dataset() -> tuple:\n",
    "    num_samples_class1 = 10\n",
    "    num_samples_class2 = 6\n",
    "    num_samples_class3 = 13\n",
    "    cov = np.array([[1, 0], [0, 1]])\n",
    "    data1 = np.random.multivariate_normal(\n",
    "        np.array([0, 0]),\n",
    "        cov,\n",
    "        num_samples_class1,\n",
    "    )\n",
    "    data2 = np.random.multivariate_normal(\n",
    "        np.array([-10, 4]),\n",
    "        cov,\n",
    "        num_samples_class2,\n",
    "    )\n",
    "    data3 = np.random.multivariate_normal(\n",
    "        np.array([10, 10]),\n",
    "        cov,\n",
    "        num_samples_class3,\n",
    "    )\n",
    "    data = np.concatenate((data1, data2, data3), axis=0)\n",
    "    classes = np.array(\n",
    "        [0 for i in range(num_samples_class1)]\n",
    "        + [1 for i in range(num_samples_class2)]\n",
    "        + [2 for i in range(num_samples_class3)],\n",
    "    )\n",
    "    return data, classes"
   ]
  },
  {
   "cell_type": "code",
   "execution_count": 3,
   "metadata": {},
   "outputs": [],
   "source": [
    "x, y = generate_dataset()"
   ]
  },
  {
   "cell_type": "code",
   "execution_count": 4,
   "metadata": {
    "scrolled": true
   },
   "outputs": [
    {
     "name": "stdout",
     "output_type": "stream",
     "text": [
      "x shape: (29, 2)\n",
      "y shape: (29,)\n",
      "x:\n",
      "[[ 0.49671415 -0.1382643 ]\n",
      " [ 0.64768854  1.52302986]\n",
      " [-0.23415337 -0.23413696]]\n",
      "y:\n",
      "[0 0 0]\n"
     ]
    }
   ],
   "source": [
    "print(f\"x shape: {x.shape}\")\n",
    "print(f\"y shape: {y.shape}\")\n",
    "\n",
    "print(f\"x:\\n{x[:3]}\")\n",
    "print(f\"y:\\n{y[:3]}\")"
   ]
  },
  {
   "cell_type": "code",
   "execution_count": 5,
   "metadata": {},
   "outputs": [],
   "source": [
    "import matplotlib.pyplot as plt\n",
    "\n",
    "\n",
    "def plot_dataset(x, y) -> None:\n",
    "    colors = [\"red\", \"blue\", \"green\"]\n",
    "    for index, point in enumerate(x):\n",
    "        plt.scatter(point[0], point[1], color=colors[y[index]])\n",
    "    plt.show()"
   ]
  },
  {
   "cell_type": "code",
   "execution_count": 6,
   "metadata": {
    "scrolled": true
   },
   "outputs": [
    {
     "data": {
      "image/png": "[encoded data removed]",
      "text/plain": [
       "<Figure size 640x480 with 1 Axes>"
      ]
     },
     "metadata": {},
     "output_type": "display_data"
    }
   ],
   "source": [
    "plot_dataset(x, y)"
   ]
  }
 ],
 "metadata": {
  "kernelspec": {
   "display_name": "base",
   "language": "python",
   "name": "python3"
  },
  "language_info": {
   "codemirror_mode": {
    "name": "ipython",
    "version": 3
   },
   "file_extension": ".py",
   "mimetype": "text/x-python",
   "name": "python",
   "nbconvert_exporter": "python",
   "pygments_lexer": "ipython3",
   "version": "3.11.5"
  },
  "vscode": {
   "interpreter": {
    "hash": "26eab8343ce5ed02de4098c10e314ebb45ce0ac5e34fea85423d6f141bc9ca67"
   }
  }
 },
 "nbformat": 4,
 "nbformat_minor": 2
}
